{
 "cells": [
  {
   "cell_type": "code",
   "execution_count": 38,
   "id": "805ab04a",
   "metadata": {},
   "outputs": [
    {
     "ename": "NoSuchElementException",
     "evalue": "Message: no such element: Unable to locate element: {\"method\":\"xpath\",\"selector\":\"//*[@id=\"ember309\"]/ul\"}\n  (Session info: chrome=105.0.5195.102)\nStacktrace:\n#0 0x5578882a8693 <unknown>\n#1 0x5578880a1b0a <unknown>\n#2 0x5578880da5f7 <unknown>\n#3 0x5578880da7c1 <unknown>\n#4 0x55788810d804 <unknown>\n#5 0x5578880f794d <unknown>\n#6 0x55788810b4b0 <unknown>\n#7 0x5578880f7743 <unknown>\n#8 0x5578880cd533 <unknown>\n#9 0x5578880ce715 <unknown>\n#10 0x5578882f87bd <unknown>\n#11 0x5578882fbbf9 <unknown>\n#12 0x5578882ddf2e <unknown>\n#13 0x5578882fc9b3 <unknown>\n#14 0x5578882d1e4f <unknown>\n#15 0x55788831bea8 <unknown>\n#16 0x55788831c052 <unknown>\n#17 0x55788833671f <unknown>\n#18 0x7f6b38c52b43 <unknown>\n",
     "output_type": "error",
     "traceback": [
      "\u001b[0;31m---------------------------------------------------------------------------\u001b[0m",
      "\u001b[0;31mNoSuchElementException\u001b[0m                    Traceback (most recent call last)",
      "\u001b[1;32m/home/zzak00/Desktop/Job-Scraper/job_scraper/Linkedin Scraper.ipynb Cell 1\u001b[0m in \u001b[0;36m<cell line: 46>\u001b[0;34m()\u001b[0m\n\u001b[1;32m     <a href='vscode-notebook-cell:/home/zzak00/Desktop/Job-Scraper/job_scraper/Linkedin%20Scraper.ipynb#W3sZmlsZQ%3D%3D?line=42'>43</a>\u001b[0m \u001b[39m## waiting load\u001b[39;00m\n\u001b[1;32m     <a href='vscode-notebook-cell:/home/zzak00/Desktop/Job-Scraper/job_scraper/Linkedin%20Scraper.ipynb#W3sZmlsZQ%3D%3D?line=43'>44</a>\u001b[0m time\u001b[39m.\u001b[39msleep(\u001b[39m2\u001b[39m)\n\u001b[0;32m---> <a href='vscode-notebook-cell:/home/zzak00/Desktop/Job-Scraper/job_scraper/Linkedin%20Scraper.ipynb#W3sZmlsZQ%3D%3D?line=45'>46</a>\u001b[0m li \u001b[39m=\u001b[39m browser\u001b[39m.\u001b[39;49mfind_element(by\u001b[39m=\u001b[39;49mBy\u001b[39m.\u001b[39;49mXPATH, value\u001b[39m=\u001b[39;49m\u001b[39m'\u001b[39;49m\u001b[39m//*[@id=\u001b[39;49m\u001b[39m\"\u001b[39;49m\u001b[39member309\u001b[39;49m\u001b[39m\"\u001b[39;49m\u001b[39m]/ul\u001b[39;49m\u001b[39m'\u001b[39;49m)\n\u001b[1;32m     <a href='vscode-notebook-cell:/home/zzak00/Desktop/Job-Scraper/job_scraper/Linkedin%20Scraper.ipynb#W3sZmlsZQ%3D%3D?line=47'>48</a>\u001b[0m \u001b[39mprint\u001b[39m(li)\n",
      "File \u001b[0;32m~/.local/lib/python3.10/site-packages/selenium/webdriver/remote/webdriver.py:857\u001b[0m, in \u001b[0;36mWebDriver.find_element\u001b[0;34m(self, by, value)\u001b[0m\n\u001b[1;32m    854\u001b[0m     by \u001b[39m=\u001b[39m By\u001b[39m.\u001b[39mCSS_SELECTOR\n\u001b[1;32m    855\u001b[0m     value \u001b[39m=\u001b[39m \u001b[39m'\u001b[39m\u001b[39m[name=\u001b[39m\u001b[39m\"\u001b[39m\u001b[39m%s\u001b[39;00m\u001b[39m\"\u001b[39m\u001b[39m]\u001b[39m\u001b[39m'\u001b[39m \u001b[39m%\u001b[39m value\n\u001b[0;32m--> 857\u001b[0m \u001b[39mreturn\u001b[39;00m \u001b[39mself\u001b[39;49m\u001b[39m.\u001b[39;49mexecute(Command\u001b[39m.\u001b[39;49mFIND_ELEMENT, {\n\u001b[1;32m    858\u001b[0m     \u001b[39m'\u001b[39;49m\u001b[39musing\u001b[39;49m\u001b[39m'\u001b[39;49m: by,\n\u001b[1;32m    859\u001b[0m     \u001b[39m'\u001b[39;49m\u001b[39mvalue\u001b[39;49m\u001b[39m'\u001b[39;49m: value})[\u001b[39m'\u001b[39m\u001b[39mvalue\u001b[39m\u001b[39m'\u001b[39m]\n",
      "File \u001b[0;32m~/.local/lib/python3.10/site-packages/selenium/webdriver/remote/webdriver.py:435\u001b[0m, in \u001b[0;36mWebDriver.execute\u001b[0;34m(self, driver_command, params)\u001b[0m\n\u001b[1;32m    433\u001b[0m response \u001b[39m=\u001b[39m \u001b[39mself\u001b[39m\u001b[39m.\u001b[39mcommand_executor\u001b[39m.\u001b[39mexecute(driver_command, params)\n\u001b[1;32m    434\u001b[0m \u001b[39mif\u001b[39;00m response:\n\u001b[0;32m--> 435\u001b[0m     \u001b[39mself\u001b[39;49m\u001b[39m.\u001b[39;49merror_handler\u001b[39m.\u001b[39;49mcheck_response(response)\n\u001b[1;32m    436\u001b[0m     response[\u001b[39m'\u001b[39m\u001b[39mvalue\u001b[39m\u001b[39m'\u001b[39m] \u001b[39m=\u001b[39m \u001b[39mself\u001b[39m\u001b[39m.\u001b[39m_unwrap_value(\n\u001b[1;32m    437\u001b[0m         response\u001b[39m.\u001b[39mget(\u001b[39m'\u001b[39m\u001b[39mvalue\u001b[39m\u001b[39m'\u001b[39m, \u001b[39mNone\u001b[39;00m))\n\u001b[1;32m    438\u001b[0m     \u001b[39mreturn\u001b[39;00m response\n",
      "File \u001b[0;32m~/.local/lib/python3.10/site-packages/selenium/webdriver/remote/errorhandler.py:247\u001b[0m, in \u001b[0;36mErrorHandler.check_response\u001b[0;34m(self, response)\u001b[0m\n\u001b[1;32m    245\u001b[0m         alert_text \u001b[39m=\u001b[39m value[\u001b[39m'\u001b[39m\u001b[39malert\u001b[39m\u001b[39m'\u001b[39m]\u001b[39m.\u001b[39mget(\u001b[39m'\u001b[39m\u001b[39mtext\u001b[39m\u001b[39m'\u001b[39m)\n\u001b[1;32m    246\u001b[0m     \u001b[39mraise\u001b[39;00m exception_class(message, screen, stacktrace, alert_text)  \u001b[39m# type: ignore[call-arg]  # mypy is not smart enough here\u001b[39;00m\n\u001b[0;32m--> 247\u001b[0m \u001b[39mraise\u001b[39;00m exception_class(message, screen, stacktrace)\n",
      "\u001b[0;31mNoSuchElementException\u001b[0m: Message: no such element: Unable to locate element: {\"method\":\"xpath\",\"selector\":\"//*[@id=\"ember309\"]/ul\"}\n  (Session info: chrome=105.0.5195.102)\nStacktrace:\n#0 0x5578882a8693 <unknown>\n#1 0x5578880a1b0a <unknown>\n#2 0x5578880da5f7 <unknown>\n#3 0x5578880da7c1 <unknown>\n#4 0x55788810d804 <unknown>\n#5 0x5578880f794d <unknown>\n#6 0x55788810b4b0 <unknown>\n#7 0x5578880f7743 <unknown>\n#8 0x5578880cd533 <unknown>\n#9 0x5578880ce715 <unknown>\n#10 0x5578882f87bd <unknown>\n#11 0x5578882fbbf9 <unknown>\n#12 0x5578882ddf2e <unknown>\n#13 0x5578882fc9b3 <unknown>\n#14 0x5578882d1e4f <unknown>\n#15 0x55788831bea8 <unknown>\n#16 0x55788831c052 <unknown>\n#17 0x55788833671f <unknown>\n#18 0x7f6b38c52b43 <unknown>\n"
     ]
    }
   ],
   "source": [
    "from selenium import webdriver\n",
    "from selenium.webdriver.chrome.service import Service\n",
    "from selenium.webdriver.common.by import By\n",
    "from selenium.webdriver.common.keys import Keys\n",
    "import time\n",
    "\n",
    "## driver location\n",
    "driver_location = '/home/zzak00/Desktop/Job-Scraper/job_scraper/chromedriver'\n",
    "## Entering email and password\n",
    "data = ['moulayamir.alami@gmail.com', '@bderrazak11JR']\n",
    "##position and location\n",
    "position = \"data scientist\"\n",
    "local = \"morocco\"\n",
    "## formating to linkedin model\n",
    "position = position.replace(' ', \"%20\")\n",
    "\n",
    "\n",
    "# Navigating Browser\n",
    "s = Service(driver_location)\n",
    "browser = webdriver.Chrome(service=s)\n",
    "\n",
    "\n",
    "## Opening linkedin website\n",
    "browser.get('https://www.linkedin.com/login')\n",
    "## waiting load\n",
    "time.sleep(2)\n",
    "\n",
    "\n",
    "## login\n",
    "username = browser.find_element(by=By.ID, value='username')\n",
    "username.send_keys(data[0])\n",
    "pwd = browser.find_element(by=By.ID, value='password')\n",
    "pwd.send_keys(data[1])\n",
    "pwd.send_keys(Keys.RETURN)\n",
    "\n",
    "browser.get('https://www.linkedin.com/jobs/')\n",
    "## Opening jobs webpage\n",
    "#job_search = browser.find_element(by=By.XPATH, value='//*[@id=\"jobs-search-box-keyword-id-ember24\"]')\n",
    "#job_search.send_keys(position)\n",
    "#job_search.send_keys(Keys.RETURN)\n",
    "\n",
    "browser.get(f\"https://www.linkedin.com/jobs/search/?currentJobId=3210266120&geoId=102787409&keywords={position}&location={local}\")\n",
    "## waiting load\n",
    "time.sleep(2)\n",
    "\n",
    "li = browser.find_element(by=By.XPATH, value='/html/body/div[5]/div[3]/div[4]/div/div/main/div/section[1]/div/div[7]/ul')\n",
    "\n",
    "print(li)\n",
    "\n",
    "\n",
    "\n"
   ]
  },
  {
   "cell_type": "code",
   "execution_count": null,
   "id": "0e592025",
   "metadata": {},
   "outputs": [],
   "source": []
  }
 ],
 "metadata": {
  "kernelspec": {
   "display_name": "Python 3.10.4 64-bit",
   "language": "python",
   "name": "python3"
  },
  "language_info": {
   "codemirror_mode": {
    "name": "ipython",
    "version": 3
   },
   "file_extension": ".py",
   "mimetype": "text/x-python",
   "name": "python",
   "nbconvert_exporter": "python",
   "pygments_lexer": "ipython3",
   "version": "3.10.4"
  },
  "vscode": {
   "interpreter": {
    "hash": "916dbcbb3f70747c44a77c7bcd40155683ae19c65e1c03b4aa3499c5328201f1"
   }
  }
 },
 "nbformat": 4,
 "nbformat_minor": 5
}
